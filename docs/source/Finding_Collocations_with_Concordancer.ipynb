{
 "cells": [
  {
   "cell_type": "markdown",
   "metadata": {
    "id": "gb6SkByJEvu3"
   },
   "source": [
    "# Finding Collocations with Concordancer\n",
    "\n",
    "This [notebook](https://colab.research.google.com/drive/1kTASc3fcvsia4kTCsNWr_JJ4EsrAfS-S) demonstrates how one can use [Concordancer](https://github.com/liao961120/concordancer) to find collocates of a word from the corpus."
   ]
  },
  {
   "cell_type": "code",
   "execution_count": 1,
   "metadata": {
    "colab": {
     "base_uri": "https://localhost:8080/"
    },
    "id": "zvqC_m2grgap",
    "outputId": "76157f52-4afb-4248-a8e3-843949d61b3e"
   },
   "outputs": [
    {
     "name": "stdout",
     "output_type": "stream",
     "text": [
      "Requirement already up-to-date: concordancer in /usr/local/lib/python3.6/dist-packages (0.1.13)\n",
      "Requirement already satisfied, skipping upgrade: falcon-cors in /usr/local/lib/python3.6/dist-packages (from concordancer) (1.1.7)\n",
      "Requirement already satisfied, skipping upgrade: cqls in /usr/local/lib/python3.6/dist-packages (from concordancer) (0.1.5)\n",
      "Requirement already satisfied, skipping upgrade: falcon in /usr/local/lib/python3.6/dist-packages (from concordancer) (2.0.0)\n",
      "Requirement already satisfied, skipping upgrade: tabulate in /usr/local/lib/python3.6/dist-packages (from concordancer) (0.8.7)\n"
     ]
    }
   ],
   "source": [
    "!pip install -U concordancer"
   ]
  },
  {
   "cell_type": "code",
   "execution_count": 2,
   "metadata": {
    "colab": {
     "base_uri": "https://localhost:8080/"
    },
    "id": "2xZDCeSi1l3S",
    "outputId": "10b83f91-d086-436e-81b5-b7659df13d29"
   },
   "outputs": [
    {
     "name": "stdout",
     "output_type": "stream",
     "text": [
      "Corpus downloaded to /content/demo_corpus.jsonl\n"
     ]
    }
   ],
   "source": [
    "import json\n",
    "from math import log2\n",
    "from concordancer.concordancer import Concordancer\n",
    "from concordancer.kwic_print import KWIC\n",
    "\n",
    "# Use built-in example data\n",
    "from concordancer.demo import download_demo_corpus\n",
    "fp = download_demo_corpus(to=\".\")"
   ]
  },
  {
   "cell_type": "code",
   "execution_count": 3,
   "metadata": {
    "id": "fOYnnun61_RR"
   },
   "outputs": [],
   "source": [
    "# Load corpus as an Concordancer object\n",
    "with open(fp, encoding=\"utf-8\") as f:\n",
    "    C = Concordancer([json.loads(l) for l in f], text_key=\"text\")\n",
    "\n",
    "C.set_cql_parameters(default_attr=\"word\", max_quant=5)"
   ]
  },
  {
   "cell_type": "markdown",
   "metadata": {
    "id": "iEMASrZr3O1S"
   },
   "source": [
    "## Extracting Collocates\n",
    "\n",
    "- The code below extracts collocates of the node word *討厭*\n",
    "- These collocates must occur within a window size of **4** around the node word to be counted\n",
    "- **MI** is used as the association measure"
   ]
  },
  {
   "cell_type": "code",
   "execution_count": 4,
   "metadata": {
    "colab": {
     "base_uri": "https://localhost:8080/"
    },
    "id": "X5SvYemu3EDG",
    "outputId": "2c7f9bf9-cd73-424f-a082-7fef98a6e3a6"
   },
   "outputs": [
    {
     "data": {
      "text/plain": [
       "{'人': {'cooccur': 1, 'total': 79},\n",
       " '外套': {'cooccur': 1, 'total': 58},\n",
       " '很': {'cooccur': 1, 'total': 244},\n",
       " '我': {'cooccur': 1, 'total': 470},\n",
       " '是': {'cooccur': 1, 'total': 450},\n",
       " '的': {'cooccur': 1, 'total': 1190},\n",
       " '真的': {'cooccur': 1, 'total': 90},\n",
       " '穿厚': {'cooccur': 1, 'total': 1}}"
      ]
     },
     "execution_count": 4,
     "metadata": {
      "tags": []
     },
     "output_type": "execute_result"
    }
   ],
   "source": [
    "# Count co-occurrances\n",
    "NODE_WORD = '討厭'\n",
    "WINDOW = 4\n",
    "\n",
    "cql = f'[word=\"{NODE_WORD}\"]'\n",
    "results = C.cql_search(cql, left=WINDOW, right=WINDOW)\n",
    "\n",
    "collo_stats = {}\n",
    "for result in results:\n",
    "    context_words = [ w['word'] for w in result['left'] + result['right'] ]\n",
    "    for collocate in context_words:\n",
    "        if collocate not in collo_stats: \n",
    "            collo_stats[collocate] = {\n",
    "                'cooccur': 0,\n",
    "                'total': len(C.corp_idx[\"word\"][collocate]),\n",
    "            }\n",
    "        collo_stats[collocate]['cooccur'] += 1\n",
    "\n",
    "collo_stats"
   ]
  },
  {
   "cell_type": "code",
   "execution_count": 5,
   "metadata": {
    "id": "vXZlFjip8LMo"
   },
   "outputs": [],
   "source": [
    "# Compute association measures\n",
    "corpus_size = sum( len(positions) for positions in C.corp_idx['word'].values() )\n",
    "node_marginal_count = len(C.corp_idx[\"word\"][NODE_WORD])\n",
    "\n",
    "for word, stats in collo_stats.items():\n",
    "    observed_cooccur = stats['cooccur']\n",
    "    collocate_marginal_count = stats['total']\n",
    "\n",
    "    # Calculate MI\n",
    "    expected_cooccur = collocate_marginal_count * node_marginal_count / corpus_size\n",
    "    MI = log2(observed_cooccur / expected_cooccur)\n",
    "    collo_stats[word]['MI'] = MI"
   ]
  },
  {
   "cell_type": "code",
   "execution_count": 6,
   "metadata": {
    "colab": {
     "base_uri": "https://localhost:8080/"
    },
    "id": "OKF4jBcl8QBE",
    "outputId": "a6e48a3c-3296-40fa-c116-ce2843d57173"
   },
   "outputs": [
    {
     "data": {
      "text/plain": [
       "[('穿厚', {'MI': 14.693759179520415, 'cooccur': 1, 'total': 1}),\n",
       " ('外套', {'MI': 8.835778184392844, 'cooccur': 1, 'total': 58}),\n",
       " ('人', {'MI': 8.389978431343312, 'cooccur': 1, 'total': 79}),\n",
       " ('真的', {'MI': 8.20190608319074, 'cooccur': 1, 'total': 90}),\n",
       " ('很', {'MI': 6.763021841957529, 'cooccur': 1, 'total': 244}),\n",
       " ('是', {'MI': 5.879977988303378, 'cooccur': 1, 'total': 450}),\n",
       " ('我', {'MI': 5.817242232955415, 'cooccur': 1, 'total': 470}),\n",
       " ('的', {'MI': 4.477013321325109, 'cooccur': 1, 'total': 1190})]"
      ]
     },
     "execution_count": 6,
     "metadata": {
      "tags": []
     },
     "output_type": "execute_result"
    }
   ],
   "source": [
    "# Sort results\n",
    "sorted(collo_stats.items(), key=lambda x:x[1]['MI'], reverse=True)[:10]"
   ]
  }
 ],
 "metadata": {
  "colab": {
   "collapsed_sections": [],
   "name": "Finding Collocations with Concordancer.ipynb",
   "provenance": []
  },
  "kernelspec": {
   "display_name": "Python 3",
   "language": "python",
   "name": "python3"
  },
  "language_info": {
   "codemirror_mode": {
    "name": "ipython",
    "version": 3
   },
   "file_extension": ".py",
   "mimetype": "text/x-python",
   "name": "python",
   "nbconvert_exporter": "python",
   "pygments_lexer": "ipython3",
   "version": "3.8.5"
  }
 },
 "nbformat": 4,
 "nbformat_minor": 4
}
